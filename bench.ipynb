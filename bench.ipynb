{
 "cells": [
  {
   "cell_type": "code",
   "execution_count": 1,
   "source": [
    "from typing import *\n",
    "from collections import defaultdict\n",
    "\n",
    "import graphlib2\n",
    "import graphlib\n",
    "\n",
    "from matplotlib import pyplot as plt\n",
    "import timeit\n",
    "import igraph\n",
    "import functools"
   ],
   "outputs": [],
   "metadata": {}
  },
  {
   "cell_type": "code",
   "execution_count": 2,
   "source": [
    "@functools.cache\n",
    "def get_linear_graph(n: int) -> Dict[int, List[int]]:\n",
    "    g = igraph.Graph.Tree(n, 1)\n",
    "    res: Dict[int, List[int]] = defaultdict(list)\n",
    "    for source, dest in g.get_edgelist():\n",
    "        res[source].append(dest)\n",
    "    return res\n",
    "\n",
    "@functools.cache\n",
    "def get_branched_graph(n: int) -> Dict[int, List[int]]:\n",
    "    g = igraph.Graph.Tree_Game(n, directed=True)\n",
    "    res: Dict[int, List[int]] = defaultdict(list)\n",
    "    for source, dest in g.get_edgelist():\n",
    "        res[source].append(dest)\n",
    "    return res"
   ],
   "outputs": [],
   "metadata": {}
  },
  {
   "cell_type": "code",
   "execution_count": 3,
   "source": [
    "def run(t) -> None:\n",
    "    to_remove = t.get_ready()\n",
    "    while t.is_active():\n",
    "        for x in to_remove:\n",
    "            t.done(x)\n",
    "        to_remove = t.get_ready()\n",
    "\n",
    "\n",
    "def setup_rust(n: int, graph_gen: Callable[[int], Dict[int, List[int]]]):\n",
    "    t = graphlib2.TopologicalSorter(graph_gen(n))\n",
    "    t.prepare()\n",
    "    return t\n",
    "\n",
    "\n",
    "def setup_python(n: int, graph_gen: Callable[[int], Dict[int, List[int]]]):\n",
    "    t = graphlib.TopologicalSorter(graph_gen(n))\n",
    "    t.prepare()\n",
    "    return t"
   ],
   "outputs": [],
   "metadata": {}
  },
  {
   "cell_type": "code",
   "execution_count": 4,
   "source": [
    "glbls = {\n",
    "    \"setup_python\": setup_python,\n",
    "    \"setup_rust\": setup_rust,\n",
    "    \"run\": run,\n",
    "    \"get_linear_graph\": get_linear_graph,\n",
    "    \"get_branched_graph\": get_branched_graph,\n",
    "}\n",
    "\n",
    "\n",
    "\n",
    "def plot(upper: int, samples: int, graph_factory: str, lower: int = 0, loops: int = 10) -> None:\n",
    "    samples = min(samples, upper-lower)\n",
    "    x = [round(lower + x*(upper-lower)/samples) for x in range(samples)]\n",
    "    y_python: List[float] = []\n",
    "    y_rust: List[float] = []\n",
    "\n",
    "    for n in x:\n",
    "        # Time Python and get the # of loops and match that\n",
    "        timerpy = timeit.Timer(stmt=f\"run(t)\", setup=f\"t = setup_python({n}, {graph_factory})\", globals=glbls)\n",
    "        pytime = timerpy.repeat(loops, number=1)\n",
    "        y_python.append(min(pytime))\n",
    "        timerust = timeit.Timer(stmt=f\"run(t)\", setup=f\"t = setup_rust({n}, {graph_factory})\", globals=glbls)\n",
    "        rustime = timerust.repeat(loops, number=1)\n",
    "        y_rust.append(min(rustime))\n",
    "    plt.plot(x, y_python, label=\"python\")\n",
    "    plt.plot(x, y_rust, label=\"rust\")\n",
    "    plt.legend(loc=\"upper left\")\n",
    "    plt.xlabel(\"V (number of vertices)\")\n",
    "    plt.ylabel(\"Execution time (s)\")"
   ],
   "outputs": [],
   "metadata": {}
  },
  {
   "cell_type": "code",
   "execution_count": null,
   "source": [
    "plot(upper=100_000, samples=35, loops=1, graph_factory=\"get_linear_graph\")"
   ],
   "outputs": [],
   "metadata": {}
  },
  {
   "cell_type": "code",
   "execution_count": null,
   "source": [
    "plot(upper=100_000, samples=35, loops=1, graph_factory=\"get_branched_graph\")"
   ],
   "outputs": [
    {
     "output_type": "error",
     "ename": "Error",
     "evalue": "Session cannot generate requests",
     "traceback": [
      "Error: Session cannot generate requests",
      "at w.executeCodeCell (/home/adrian/.vscode-server/extensions/ms-toolsai.jupyter-2021.8.2041215044/out/client/extension.js:52:301310)",
      "at w.execute (/home/adrian/.vscode-server/extensions/ms-toolsai.jupyter-2021.8.2041215044/out/client/extension.js:52:300703)",
      "at w.start (/home/adrian/.vscode-server/extensions/ms-toolsai.jupyter-2021.8.2041215044/out/client/extension.js:52:296367)",
      "at runMicrotasks (<anonymous>)",
      "at processTicksAndRejections (internal/process/task_queues.js:93:5)",
      "at async t.CellExecutionQueue.executeQueuedCells (/home/adrian/.vscode-server/extensions/ms-toolsai.jupyter-2021.8.2041215044/out/client/extension.js:52:311160)",
      "at async t.CellExecutionQueue.start (/home/adrian/.vscode-server/extensions/ms-toolsai.jupyter-2021.8.2041215044/out/client/extension.js:52:310700)"
     ]
    }
   ],
   "metadata": {}
  }
 ],
 "metadata": {
  "interpreter": {
   "hash": "5ccb5af7ace72a555ec233eabd1721f4bafd254bfb1eb90aeeed04b98f3b6fce"
  },
  "kernelspec": {
   "name": "python3",
   "display_name": "Python 3.10.0 64-bit ('venv': venv)"
  },
  "language_info": {
   "codemirror_mode": {
    "name": "ipython",
    "version": 3
   },
   "file_extension": ".py",
   "mimetype": "text/x-python",
   "name": "python",
   "nbconvert_exporter": "python",
   "pygments_lexer": "ipython3",
   "version": "3.10.0"
  }
 },
 "nbformat": 4,
 "nbformat_minor": 5
}