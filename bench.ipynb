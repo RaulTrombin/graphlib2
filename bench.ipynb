{
 "cells": [
  {
   "cell_type": "code",
   "execution_count": 1,
   "source": [
    "from typing import *\n",
    "\n",
    "import graphlib2\n",
    "import graphlib\n",
    "\n",
    "from matplotlib import pyplot as plt\n",
    "import timeit\n",
    "import statistics\n",
    "import networkx as nx\n",
    "import functools"
   ],
   "outputs": [],
   "metadata": {}
  },
  {
   "cell_type": "code",
   "execution_count": 2,
   "source": [
    "TopologicalSorter = Union[graphlib.TopologicalSorter, graphlib2.TopologicalSorter]\n",
    "Graph = Dict[int, List[int]]"
   ],
   "outputs": [],
   "metadata": {}
  },
  {
   "cell_type": "code",
   "execution_count": 3,
   "source": [
    "@functools.lru_cache\n",
    "def _get_linear_graph(n: int) -> Dict[int, List[int]]:\n",
    "    graph: Dict[int, List[int]] = {}\n",
    "    i = 0\n",
    "    for i in range(n):\n",
    "        graph[i] = [i+1]  # node 0 depends on node 1, etc.\n",
    "    graph[i+1] = []  # node n has no dependencies\n",
    "    return graph\n",
    "\n",
    "def get_linear_graph(n: int) -> Dict[int, List[int]]:\n",
    "    return {k: v.copy() for k, v in _get_linear_graph(n).items()}\n",
    "\n",
    "@functools.lru_cache\n",
    "def _get_random_graph(n: int) -> Dict[int, List[int]]:\n",
    "    G = nx.fast_gnp_random_graph(n, 0.5, seed=42, directed=True)\n",
    "    DAG = nx.DiGraph([(u, v) for (u, v) in G.edges() if u < v])\n",
    "    return nx.convert.to_dict_of_lists(DAG)\n",
    "\n",
    "def get_random_graph(n: int) -> Dict[int, List[int]]:\n",
    "    return {k: v.copy() for k, v in _get_random_graph(n).items()}"
   ],
   "outputs": [],
   "metadata": {}
  },
  {
   "cell_type": "code",
   "execution_count": 4,
   "source": [
    "def run(t: TopologicalSorter) -> None:\n",
    "    to_remove = t.get_ready()\n",
    "    while t.is_active():\n",
    "        t.done(*to_remove)\n",
    "        to_remove = t.get_ready()\n",
    "\n",
    "\n",
    "def setup_rust(n: int, graph_gen: Callable[[int], Graph]) -> TopologicalSorter:\n",
    "    t = graphlib2.TopologicalSorter(graph_gen(n))\n",
    "    t.prepare()\n",
    "    return t\n",
    "\n",
    "\n",
    "def setup_python(n: int, graph_gen: Callable[[int], Graph]) -> TopologicalSorter:\n",
    "    t = graphlib.TopologicalSorter(graph_gen(n))\n",
    "    t.prepare()\n",
    "    return t"
   ],
   "outputs": [],
   "metadata": {}
  },
  {
   "cell_type": "code",
   "execution_count": null,
   "source": [],
   "outputs": [],
   "metadata": {}
  },
  {
   "cell_type": "code",
   "execution_count": 5,
   "source": [
    "g = get_linear_graph(1)\n",
    "t = graphlib2.TopologicalSorter(g)\n",
    "t.prepare()\n",
    "to_remove = t.get_ready()\n",
    "print(to_remove)\n",
    "while t.is_active():\n",
    "    removed = to_remove\n",
    "    t.done(*to_remove)\n",
    "    to_remove = t.get_ready()\n",
    "    print(removed, to_remove)"
   ],
   "outputs": [
    {
     "output_type": "stream",
     "name": "stdout",
     "text": [
      "(1,)\n",
      "(1,) (0,)\n"
     ]
    }
   ],
   "metadata": {}
  },
  {
   "cell_type": "code",
   "execution_count": 6,
   "source": [
    "glbls = {\n",
    "    \"setup_python\": setup_python,\n",
    "    \"setup_rust\": setup_rust,\n",
    "    \"run\": run,\n",
    "    \"get_linear_graph\": get_linear_graph,\n",
    "    \"get_random_graph\": get_random_graph\n",
    "}\n",
    "\n",
    "\n",
    "\n",
    "def plot(upper: int, samples: int, graph_factory: str, lower: int = 0, loops: int = 10) -> None:\n",
    "    samples = min(samples, upper-lower)\n",
    "    x = [round(lower + x*(upper-lower)/samples) for x in range(samples)]\n",
    "    y_python: List[float] = []\n",
    "    y_rust: List[float] = []\n",
    "\n",
    "    for n in x:\n",
    "        # Time Python and get the # of loops and match that\n",
    "        timerpy = timeit.Timer(stmt=\"run(t)\", setup=f\"t = setup_python({n}, {graph_factory})\", globals=glbls)\n",
    "        pytime = timerpy.timeit(loops)\n",
    "        y_python.append(pytime)\n",
    "        timerust = timeit.Timer(stmt=\"run(t)\", setup=f\"t = setup_rust({n}, {graph_factory})\", globals=glbls)\n",
    "        rustime = timerust.timeit(loops)\n",
    "        y_rust.append(rustime)\n",
    "    plt.plot(x, y_python, label=\"python\")\n",
    "    plt.plot(x, y_rust, label=\"rust\")\n",
    "    plt.legend(loc=\"upper left\")\n",
    "    plt.xlabel(\"V (number of vertices)\")\n",
    "    plt.ylabel(\"Execution time (s)\")"
   ],
   "outputs": [],
   "metadata": {}
  },
  {
   "cell_type": "code",
   "execution_count": 7,
   "source": [
    "plot(upper=100, samples=10, graph_factory=\"get_linear_graph\")"
   ],
   "outputs": [],
   "metadata": {}
  },
  {
   "cell_type": "code",
   "execution_count": null,
   "source": [
    "plot(upper=100, samples=10, loops=3, graph_factory=\"get_random_graph\")"
   ],
   "outputs": [
    {
     "output_type": "error",
     "ename": "Error",
     "evalue": "Kernel is dead",
     "traceback": [
      "Error: Kernel is dead",
      "at g._sendKernelShellControl (/home/adrian/.vscode-server/extensions/ms-toolsai.jupyter-2021.8.2041215044/out/client/extension.js:52:1006195)",
      "at g.sendShellMessage (/home/adrian/.vscode-server/extensions/ms-toolsai.jupyter-2021.8.2041215044/out/client/extension.js:52:1005964)",
      "at g.requestExecute (/home/adrian/.vscode-server/extensions/ms-toolsai.jupyter-2021.8.2041215044/out/client/extension.js:52:1008506)",
      "at d.requestExecute (/home/adrian/.vscode-server/extensions/ms-toolsai.jupyter-2021.8.2041215044/out/client/extension.js:37:325680)",
      "at w.requestExecute (/home/adrian/.vscode-server/extensions/ms-toolsai.jupyter-2021.8.2041215044/out/client/extension.js:32:18027)",
      "at w.executeCodeCell (/home/adrian/.vscode-server/extensions/ms-toolsai.jupyter-2021.8.2041215044/out/client/extension.js:52:301076)",
      "at w.execute (/home/adrian/.vscode-server/extensions/ms-toolsai.jupyter-2021.8.2041215044/out/client/extension.js:52:300703)",
      "at w.start (/home/adrian/.vscode-server/extensions/ms-toolsai.jupyter-2021.8.2041215044/out/client/extension.js:52:296367)",
      "at processTicksAndRejections (internal/process/task_queues.js:93:5)",
      "at async t.CellExecutionQueue.executeQueuedCells (/home/adrian/.vscode-server/extensions/ms-toolsai.jupyter-2021.8.2041215044/out/client/extension.js:52:311160)",
      "at async t.CellExecutionQueue.start (/home/adrian/.vscode-server/extensions/ms-toolsai.jupyter-2021.8.2041215044/out/client/extension.js:52:310700)"
     ]
    }
   ],
   "metadata": {}
  },
  {
   "cell_type": "code",
   "execution_count": null,
   "source": [
    "py_get_ready: List[float] = []\n",
    "py_done: List[float] = []\n",
    "\n",
    "rust_get_ready: List[float] = []\n",
    "rust_done: List[float] = []\n",
    "\n",
    "for _ in range(10):\n",
    "    t = setup_python(1_000, get_linear_graph)\n",
    "    start = timeit.default_timer()\n",
    "    ready = t.get_ready()\n",
    "    py_get_ready.append(timeit.default_timer()-start)\n",
    "    start = timeit.default_timer()\n",
    "    t.done(*ready)\n",
    "    py_done.append(timeit.default_timer()-start)\n",
    "\n",
    "    t = setup_rust(1_000, get_linear_graph)\n",
    "    start = timeit.default_timer()\n",
    "    ready = t.get_ready()\n",
    "    rust_get_ready.append(timeit.default_timer()-start)\n",
    "    start = timeit.default_timer()\n",
    "    t.done(*ready)\n",
    "    rust_done.append(timeit.default_timer()-start)\n",
    "\n",
    "statistics.mean(py_get_ready),statistics.mean(py_done),statistics.mean(rust_get_ready),statistics.mean(rust_done)"
   ],
   "outputs": [
    {
     "output_type": "execute_result",
     "data": {
      "text/plain": [
       "(2.883000006477232e-05,\n",
       " 9.079999927052995e-06,\n",
       " 4.466999980650144e-05,\n",
       " 8.8400001914124e-06)"
      ]
     },
     "metadata": {},
     "execution_count": 8
    }
   ],
   "metadata": {}
  },
  {
   "cell_type": "code",
   "execution_count": null,
   "source": [
    "py_get_ready: List[float] = []\n",
    "py_done: List[float] = []\n",
    "\n",
    "rust_get_ready: List[float] = []\n",
    "rust_done: List[float] = []\n",
    "\n",
    "for _ in range(10):\n",
    "    t = setup_python(1_000, get_random_graph)\n",
    "    start = timeit.default_timer()\n",
    "    ready = t.get_ready()\n",
    "    py_get_ready.append(timeit.default_timer()-start)\n",
    "    start = timeit.default_timer()\n",
    "    t.done(*ready)\n",
    "    py_done.append(timeit.default_timer()-start)\n",
    "\n",
    "    t = setup_rust(1_000, get_random_graph)\n",
    "    start = timeit.default_timer()\n",
    "    ready = t.get_ready()\n",
    "    rust_get_ready.append(timeit.default_timer()-start)\n",
    "    start = timeit.default_timer()\n",
    "    t.done(*ready)\n",
    "    rust_done.append(timeit.default_timer()-start)\n",
    "\n",
    "statistics.mean(py_get_ready),statistics.mean(py_done),statistics.mean(rust_get_ready),statistics.mean(rust_done)"
   ],
   "outputs": [
    {
     "output_type": "execute_result",
     "data": {
      "text/plain": [
       "(1.6169999980775174e-05,\n",
       " 8.345000005647308e-05,\n",
       " 3.7500000144063963e-05,\n",
       " 3.3760000042093453e-05)"
      ]
     },
     "metadata": {},
     "execution_count": 9
    }
   ],
   "metadata": {}
  }
 ],
 "metadata": {
  "interpreter": {
   "hash": "5ccb5af7ace72a555ec233eabd1721f4bafd254bfb1eb90aeeed04b98f3b6fce"
  },
  "kernelspec": {
   "name": "python3",
   "display_name": "Python 3.10.0 64-bit ('venv': venv)"
  },
  "language_info": {
   "codemirror_mode": {
    "name": "ipython",
    "version": 3
   },
   "file_extension": ".py",
   "mimetype": "text/x-python",
   "name": "python",
   "nbconvert_exporter": "python",
   "pygments_lexer": "ipython3",
   "version": "3.10.0"
  }
 },
 "nbformat": 4,
 "nbformat_minor": 5
}